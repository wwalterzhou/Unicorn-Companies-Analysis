{
  "metadata": {
    "kernelspec": {
      "name": "python",
      "display_name": "Python (Pyodide)",
      "language": "python"
    },
    "language_info": {
      "codemirror_mode": {
        "name": "python",
        "version": 3
      },
      "file_extension": ".py",
      "mimetype": "text/x-python",
      "name": "python",
      "nbconvert_exporter": "python",
      "pygments_lexer": "ipython3",
      "version": "3.8"
    }
  },
  "nbformat_minor": 5,
  "nbformat": 4,
  "cells": [
    {
      "id": "3b7ab478",
      "cell_type": "markdown",
      "source": "# Data Wrangling\n\nPerformed data wrangling and cleaning.\n1. \n2. \n3. \n4. \n\nOriginal data = 1,074 rows\n\nCleaned data = 1,045 rows (2,974 exploded rows)\n",
      "metadata": {}
    },
    {
      "id": "0cf87a5e",
      "cell_type": "code",
      "source": "import pandas as pd\nimport warnings\n\nwarnings.simplefilter(action=\"ignore\", category=FutureWarning)",
      "metadata": {
        "trusted": true
      },
      "outputs": [],
      "execution_count": 5
    },
    {
      "id": "c8927fb1",
      "cell_type": "code",
      "source": "# Import Data\n\ndf = pd.read_csv('Unicorn_Companies.csv')",
      "metadata": {
        "trusted": true
      },
      "outputs": [],
      "execution_count": 6
    },
    {
      "id": "a0e4b078",
      "cell_type": "code",
      "source": "df.head()",
      "metadata": {
        "trusted": true
      },
      "outputs": [
        {
          "execution_count": 7,
          "output_type": "execute_result",
          "data": {
            "text/plain": "     Company Valuation Date Joined                         Industry  \\\n0  Bytedance     $180B  2017-04-07          Artificial intelligence   \n1     SpaceX     $100B  2012-12-01                            Other   \n2      SHEIN     $100B  2018-07-03  E-commerce & direct-to-consumer   \n3     Stripe      $95B  2014-01-23                          Fintech   \n4     Klarna      $46B  2011-12-12                          Fintech   \n\n            City        Country      Continent  Year Founded Funding  \\\n0        Beijing          China           Asia          2012     $8B   \n1      Hawthorne  United States  North America          2002     $7B   \n2       Shenzhen          China           Asia          2008     $2B   \n3  San Francisco  United States  North America          2010     $2B   \n4      Stockholm         Sweden         Europe          2005     $4B   \n\n                                    Select Investors  \n0  Sequoia Capital China, SIG Asia Investments, S...  \n1  Founders Fund, Draper Fisher Jurvetson, Rothen...  \n2  Tiger Global Management, Sequoia Capital China...  \n3        Khosla Ventures, LowercaseCapital, capitalG  \n4  Institutional Venture Partners, Sequoia Capita...  ",
            "text/html": "<div>\n<style scoped>\n    .dataframe tbody tr th:only-of-type {\n        vertical-align: middle;\n    }\n\n    .dataframe tbody tr th {\n        vertical-align: top;\n    }\n\n    .dataframe thead th {\n        text-align: right;\n    }\n</style>\n<table border=\"1\" class=\"dataframe\">\n  <thead>\n    <tr style=\"text-align: right;\">\n      <th></th>\n      <th>Company</th>\n      <th>Valuation</th>\n      <th>Date Joined</th>\n      <th>Industry</th>\n      <th>City</th>\n      <th>Country</th>\n      <th>Continent</th>\n      <th>Year Founded</th>\n      <th>Funding</th>\n      <th>Select Investors</th>\n    </tr>\n  </thead>\n  <tbody>\n    <tr>\n      <th>0</th>\n      <td>Bytedance</td>\n      <td>$180B</td>\n      <td>2017-04-07</td>\n      <td>Artificial intelligence</td>\n      <td>Beijing</td>\n      <td>China</td>\n      <td>Asia</td>\n      <td>2012</td>\n      <td>$8B</td>\n      <td>Sequoia Capital China, SIG Asia Investments, S...</td>\n    </tr>\n    <tr>\n      <th>1</th>\n      <td>SpaceX</td>\n      <td>$100B</td>\n      <td>2012-12-01</td>\n      <td>Other</td>\n      <td>Hawthorne</td>\n      <td>United States</td>\n      <td>North America</td>\n      <td>2002</td>\n      <td>$7B</td>\n      <td>Founders Fund, Draper Fisher Jurvetson, Rothen...</td>\n    </tr>\n    <tr>\n      <th>2</th>\n      <td>SHEIN</td>\n      <td>$100B</td>\n      <td>2018-07-03</td>\n      <td>E-commerce &amp; direct-to-consumer</td>\n      <td>Shenzhen</td>\n      <td>China</td>\n      <td>Asia</td>\n      <td>2008</td>\n      <td>$2B</td>\n      <td>Tiger Global Management, Sequoia Capital China...</td>\n    </tr>\n    <tr>\n      <th>3</th>\n      <td>Stripe</td>\n      <td>$95B</td>\n      <td>2014-01-23</td>\n      <td>Fintech</td>\n      <td>San Francisco</td>\n      <td>United States</td>\n      <td>North America</td>\n      <td>2010</td>\n      <td>$2B</td>\n      <td>Khosla Ventures, LowercaseCapital, capitalG</td>\n    </tr>\n    <tr>\n      <th>4</th>\n      <td>Klarna</td>\n      <td>$46B</td>\n      <td>2011-12-12</td>\n      <td>Fintech</td>\n      <td>Stockholm</td>\n      <td>Sweden</td>\n      <td>Europe</td>\n      <td>2005</td>\n      <td>$4B</td>\n      <td>Institutional Venture Partners, Sequoia Capita...</td>\n    </tr>\n  </tbody>\n</table>\n</div>"
          },
          "metadata": {}
        }
      ],
      "execution_count": 7
    },
    {
      "id": "1c12a710",
      "cell_type": "code",
      "source": "df.info()",
      "metadata": {
        "trusted": true
      },
      "outputs": [
        {
          "name": "stdout",
          "text": "<class 'pandas.core.frame.DataFrame'>\nRangeIndex: 1074 entries, 0 to 1073\nData columns (total 10 columns):\n #   Column            Non-Null Count  Dtype \n---  ------            --------------  ----- \n 0   Company           1074 non-null   object\n 1   Valuation         1074 non-null   object\n 2   Date Joined       1074 non-null   object\n 3   Industry          1074 non-null   object\n 4   City              1058 non-null   object\n 5   Country           1074 non-null   object\n 6   Continent         1074 non-null   object\n 7   Year Founded      1074 non-null   int64 \n 8   Funding           1074 non-null   object\n 9   Select Investors  1073 non-null   object\ndtypes: int64(1), object(9)\nmemory usage: 46.2+ KB\n",
          "output_type": "stream"
        }
      ],
      "execution_count": 8
    },
    {
      "id": "ea266946",
      "cell_type": "code",
      "source": "# Remove rows with missing values (Removed = 17 rows)\n\ndf.dropna(inplace=True)\ndf.info()",
      "metadata": {
        "trusted": true
      },
      "outputs": [
        {
          "name": "stdout",
          "text": "<class 'pandas.core.frame.DataFrame'>\nIndex: 1057 entries, 0 to 1073\nData columns (total 10 columns):\n #   Column            Non-Null Count  Dtype \n---  ------            --------------  ----- \n 0   Company           1057 non-null   object\n 1   Valuation         1057 non-null   object\n 2   Date Joined       1057 non-null   object\n 3   Industry          1057 non-null   object\n 4   City              1057 non-null   object\n 5   Country           1057 non-null   object\n 6   Continent         1057 non-null   object\n 7   Year Founded      1057 non-null   int64 \n 8   Funding           1057 non-null   object\n 9   Select Investors  1057 non-null   object\ndtypes: int64(1), object(9)\nmemory usage: 53.7+ KB\n",
          "output_type": "stream"
        }
      ],
      "execution_count": 9
    },
    {
      "id": "3dbbdb87",
      "cell_type": "code",
      "source": "# Remove `\"$\"` and `\"B\"` from `Valuation` and `Funding` and cast as float\n\ndf[\"Valuation\"] = (df[\"Valuation\"]\n    .str.replace(\"$\", \"\")\n    .str.replace(\"B\", \"000000000\")\n    .astype(float)\n)\n\ndf[\"Valuation\"].head(5)",
      "metadata": {
        "trusted": true
      },
      "outputs": [
        {
          "execution_count": 10,
          "output_type": "execute_result",
          "data": {
            "text/plain": "0    1.800000e+11\n1    1.000000e+11\n2    1.000000e+11\n3    9.500000e+10\n4    4.600000e+10\nName: Valuation, dtype: float64"
          },
          "metadata": {}
        }
      ],
      "execution_count": 10
    },
    {
      "id": "9987a0dc",
      "cell_type": "code",
      "source": "# Check for non-numerical values\n\ndf[\"Funding\"].value_counts()",
      "metadata": {
        "trusted": true
      },
      "outputs": [
        {
          "execution_count": 12,
          "output_type": "execute_result",
          "data": {
            "text/plain": "Funding\n$1B        59\n$2B        29\n$200M      12\nUnknown    12\n$4B         9\n           ..\n$536M       1\n$19M        1\n$946M       1\n$180M       1\n$620M       1\nName: count, Length: 533, dtype: int64"
          },
          "metadata": {}
        }
      ],
      "execution_count": 12
    },
    {
      "id": "5dfa9304",
      "cell_type": "code",
      "source": "# Exclude rows with `\"Unknown\"` `Funding` values (Removed = 12 rows)\n\ndf = df[df[\"Funding\"] != \"Unknown\"]\ndf.shape",
      "metadata": {
        "trusted": true
      },
      "outputs": [
        {
          "execution_count": 13,
          "output_type": "execute_result",
          "data": {
            "text/plain": "(1045, 10)"
          },
          "metadata": {}
        }
      ],
      "execution_count": 13
    },
    {
      "id": "33a11b37",
      "cell_type": "code",
      "source": "# Remove \"$\" and \"B\" and cast \"Funding\" as float\n\ndf[\"Funding\"] = (df[\"Funding\"]\n    .str.replace(\"$\", \"\")\n    .str.replace(\"B\", \"000000000\")\n    .str.replace(\"M\", \"000000\")\n    .astype(float)\n)\n\ndf[\"Funding\"].head(5)",
      "metadata": {
        "trusted": true
      },
      "outputs": [
        {
          "execution_count": 14,
          "output_type": "execute_result",
          "data": {
            "text/plain": "0    8.000000e+09\n1    7.000000e+09\n2    2.000000e+09\n3    2.000000e+09\n4    4.000000e+09\nName: Funding, dtype: float64"
          },
          "metadata": {}
        }
      ],
      "execution_count": 14
    },
    {
      "id": "1b9058b5",
      "cell_type": "code",
      "source": "df.info()",
      "metadata": {
        "trusted": true
      },
      "outputs": [
        {
          "name": "stdout",
          "text": "<class 'pandas.core.frame.DataFrame'>\nIndex: 1045 entries, 0 to 1073\nData columns (total 10 columns):\n #   Column            Non-Null Count  Dtype  \n---  ------            --------------  -----  \n 0   Company           1045 non-null   object \n 1   Valuation         1045 non-null   float64\n 2   Date Joined       1045 non-null   object \n 3   Industry          1045 non-null   object \n 4   City              1045 non-null   object \n 5   Country           1045 non-null   object \n 6   Continent         1045 non-null   object \n 7   Year Founded      1045 non-null   int64  \n 8   Funding           1045 non-null   float64\n 9   Select Investors  1045 non-null   object \ndtypes: float64(2), int64(1), object(7)\nmemory usage: 61.2+ KB\n",
          "output_type": "stream"
        }
      ],
      "execution_count": 15
    },
    {
      "id": "df18c7f6",
      "cell_type": "code",
      "source": "df[\"Select Investors\"].unique()",
      "metadata": {
        "trusted": true
      },
      "outputs": [
        {
          "execution_count": 16,
          "output_type": "execute_result",
          "data": {
            "text/plain": "array(['Sequoia Capital China, SIG Asia Investments, Sina Weibo, Softbank Group',\n       'Founders Fund, Draper Fisher Jurvetson, Rothenberg Ventures',\n       'Tiger Global Management, Sequoia Capital China, Shunwei Capital Partners',\n       ...,\n       'Xingwang Investment Management, China Capital Investment Group, Matrix Partners China',\n       'IAG Capital Partners, Augmentum Fintech, Northzone Ventures',\n       'Novator Partners, True, Causeway Media Partners'], dtype=object)"
          },
          "metadata": {}
        }
      ],
      "execution_count": 16
    },
    {
      "id": "416abe90",
      "cell_type": "code",
      "source": "df[\"Select Investors\"].nunique()",
      "metadata": {
        "trusted": true
      },
      "outputs": [
        {
          "execution_count": 17,
          "output_type": "execute_result",
          "data": {
            "text/plain": "1031"
          },
          "metadata": {}
        }
      ],
      "execution_count": 17
    },
    {
      "id": "9c04a3bf",
      "cell_type": "code",
      "source": "df[\"Select Investors\"].value_counts()",
      "metadata": {
        "trusted": true
      },
      "outputs": [
        {
          "execution_count": 18,
          "output_type": "execute_result",
          "data": {
            "text/plain": "Select Investors\nTwo Sigma Ventures, Flint Capital, Commerce Ventures                                     2\nGreylock Partners, Google Ventures, BlackRock                                            2\nGeneral Atlantic                                                                         2\nSequoia Capital                                                                          2\nQualcomm Ventures, Accel, Canaan Partners                                                2\n                                                                                        ..\nGuozhong Venture Capital Management, Shenzhen Capital Group, Oriental Fortune Capital    1\nDeFi Technologies, Hypersphere Ventures, M13                                             1\nOctopus Ventures, Munich Re Ventures, CommerzVentures                                    1\nAlibaba Group,Co-Stone Venture Capital, Buhuo Venture Capital                            1\nNovator Partners, True, Causeway Media Partners                                          1\nName: count, Length: 1031, dtype: int64"
          },
          "metadata": {}
        }
      ],
      "execution_count": 18
    },
    {
      "id": "71e7fe44",
      "cell_type": "code",
      "source": "# Split investors and convert to list\n\ndf[\"Select Investors\"] = df[\"Select Investors\"].str.split(\", \")",
      "metadata": {
        "trusted": true
      },
      "outputs": [],
      "execution_count": 19
    },
    {
      "id": "4d3a23ca",
      "cell_type": "code",
      "source": "df.info()",
      "metadata": {},
      "outputs": [
        {
          "name": "stdout",
          "output_type": "stream",
          "text": [
            "<class 'pandas.core.frame.DataFrame'>\n",
            "Int64Index: 1045 entries, 0 to 1073\n",
            "Data columns (total 10 columns):\n",
            " #   Column            Non-Null Count  Dtype  \n",
            "---  ------            --------------  -----  \n",
            " 0   Company           1045 non-null   object \n",
            " 1   Valuation         1045 non-null   float64\n",
            " 2   Date Joined       1045 non-null   object \n",
            " 3   Industry          1045 non-null   object \n",
            " 4   City              1045 non-null   object \n",
            " 5   Country           1045 non-null   object \n",
            " 6   Continent         1045 non-null   object \n",
            " 7   Year Founded      1045 non-null   int64  \n",
            " 8   Funding           1045 non-null   float64\n",
            " 9   Select Investors  1045 non-null   object \n",
            "dtypes: float64(2), int64(1), object(7)\n",
            "memory usage: 89.8+ KB\n"
          ]
        }
      ],
      "execution_count": 16
    },
    {
      "id": "02ccab91",
      "cell_type": "code",
      "source": "# Explode \"Select Investors\" to individual list\n\ndf = df.explode(\"Select Investors\")\ndf.head()",
      "metadata": {
        "trusted": true
      },
      "outputs": [
        {
          "execution_count": 20,
          "output_type": "execute_result",
          "data": {
            "text/plain": "     Company     Valuation Date Joined                 Industry       City  \\\n0  Bytedance  1.800000e+11  2017-04-07  Artificial intelligence    Beijing   \n0  Bytedance  1.800000e+11  2017-04-07  Artificial intelligence    Beijing   \n0  Bytedance  1.800000e+11  2017-04-07  Artificial intelligence    Beijing   \n0  Bytedance  1.800000e+11  2017-04-07  Artificial intelligence    Beijing   \n1     SpaceX  1.000000e+11  2012-12-01                    Other  Hawthorne   \n\n         Country      Continent  Year Founded       Funding  \\\n0          China           Asia          2012  8.000000e+09   \n0          China           Asia          2012  8.000000e+09   \n0          China           Asia          2012  8.000000e+09   \n0          China           Asia          2012  8.000000e+09   \n1  United States  North America          2002  7.000000e+09   \n\n        Select Investors  \n0  Sequoia Capital China  \n0   SIG Asia Investments  \n0             Sina Weibo  \n0         Softbank Group  \n1          Founders Fund  ",
            "text/html": "<div>\n<style scoped>\n    .dataframe tbody tr th:only-of-type {\n        vertical-align: middle;\n    }\n\n    .dataframe tbody tr th {\n        vertical-align: top;\n    }\n\n    .dataframe thead th {\n        text-align: right;\n    }\n</style>\n<table border=\"1\" class=\"dataframe\">\n  <thead>\n    <tr style=\"text-align: right;\">\n      <th></th>\n      <th>Company</th>\n      <th>Valuation</th>\n      <th>Date Joined</th>\n      <th>Industry</th>\n      <th>City</th>\n      <th>Country</th>\n      <th>Continent</th>\n      <th>Year Founded</th>\n      <th>Funding</th>\n      <th>Select Investors</th>\n    </tr>\n  </thead>\n  <tbody>\n    <tr>\n      <th>0</th>\n      <td>Bytedance</td>\n      <td>1.800000e+11</td>\n      <td>2017-04-07</td>\n      <td>Artificial intelligence</td>\n      <td>Beijing</td>\n      <td>China</td>\n      <td>Asia</td>\n      <td>2012</td>\n      <td>8.000000e+09</td>\n      <td>Sequoia Capital China</td>\n    </tr>\n    <tr>\n      <th>0</th>\n      <td>Bytedance</td>\n      <td>1.800000e+11</td>\n      <td>2017-04-07</td>\n      <td>Artificial intelligence</td>\n      <td>Beijing</td>\n      <td>China</td>\n      <td>Asia</td>\n      <td>2012</td>\n      <td>8.000000e+09</td>\n      <td>SIG Asia Investments</td>\n    </tr>\n    <tr>\n      <th>0</th>\n      <td>Bytedance</td>\n      <td>1.800000e+11</td>\n      <td>2017-04-07</td>\n      <td>Artificial intelligence</td>\n      <td>Beijing</td>\n      <td>China</td>\n      <td>Asia</td>\n      <td>2012</td>\n      <td>8.000000e+09</td>\n      <td>Sina Weibo</td>\n    </tr>\n    <tr>\n      <th>0</th>\n      <td>Bytedance</td>\n      <td>1.800000e+11</td>\n      <td>2017-04-07</td>\n      <td>Artificial intelligence</td>\n      <td>Beijing</td>\n      <td>China</td>\n      <td>Asia</td>\n      <td>2012</td>\n      <td>8.000000e+09</td>\n      <td>Softbank Group</td>\n    </tr>\n    <tr>\n      <th>1</th>\n      <td>SpaceX</td>\n      <td>1.000000e+11</td>\n      <td>2012-12-01</td>\n      <td>Other</td>\n      <td>Hawthorne</td>\n      <td>United States</td>\n      <td>North America</td>\n      <td>2002</td>\n      <td>7.000000e+09</td>\n      <td>Founders Fund</td>\n    </tr>\n  </tbody>\n</table>\n</div>"
          },
          "metadata": {}
        }
      ],
      "execution_count": 20
    },
    {
      "id": "60eca504",
      "cell_type": "code",
      "source": "df.info()",
      "metadata": {
        "trusted": true
      },
      "outputs": [
        {
          "name": "stdout",
          "text": "<class 'pandas.core.frame.DataFrame'>\nIndex: 2974 entries, 0 to 1073\nData columns (total 10 columns):\n #   Column            Non-Null Count  Dtype  \n---  ------            --------------  -----  \n 0   Company           2974 non-null   object \n 1   Valuation         2974 non-null   float64\n 2   Date Joined       2974 non-null   object \n 3   Industry          2974 non-null   object \n 4   City              2974 non-null   object \n 5   Country           2974 non-null   object \n 6   Continent         2974 non-null   object \n 7   Year Founded      2974 non-null   int64  \n 8   Funding           2974 non-null   float64\n 9   Select Investors  2974 non-null   object \ndtypes: float64(2), int64(1), object(7)\nmemory usage: 174.3+ KB\n",
          "output_type": "stream"
        }
      ],
      "execution_count": 22
    },
    {
      "id": "8346cd8e",
      "cell_type": "code",
      "source": "df[\"Select Investors\"].value_counts()",
      "metadata": {
        "scrolled": true,
        "trusted": true
      },
      "outputs": [
        {
          "execution_count": 21,
          "output_type": "execute_result",
          "data": {
            "text/plain": "Select Investors\nAccel                       59\nTiger Global Management     52\nAndreessen Horowitz         52\nInsight Partners            46\nSequoia Capital China       45\n                            ..\nGo-Ventures                  1\nLockheed Martin Ventures     1\nGAM Holding                  1\nHOF Capital                  1\nCauseway Media Partners      1\nName: count, Length: 1235, dtype: int64"
          },
          "metadata": {}
        }
      ],
      "execution_count": 21
    },
    {
      "id": "2a9af631",
      "cell_type": "code",
      "source": "# Import the clean df to folder\n\ndf.to_csv(\"Unicorn+Companies/unicorn_companies_clean.csv\", index=False)",
      "metadata": {
        "trusted": true
      },
      "outputs": [
        {
          "ename": "<class 'OSError'>",
          "evalue": "Cannot save file into a non-existent directory: 'Unicorn+Companies'",
          "traceback": [
            "\u001b[0;31m---------------------------------------------------------------------------\u001b[0m",
            "\u001b[0;31mOSError\u001b[0m                                   Traceback (most recent call last)",
            "Cell \u001b[0;32mIn[23], line 3\u001b[0m\n\u001b[1;32m      1\u001b[0m \u001b[38;5;66;03m# Import the clean df to folder\u001b[39;00m\n\u001b[0;32m----> 3\u001b[0m \u001b[43mdf\u001b[49m\u001b[38;5;241;43m.\u001b[39;49m\u001b[43mto_csv\u001b[49m\u001b[43m(\u001b[49m\u001b[38;5;124;43m\"\u001b[39;49m\u001b[38;5;124;43mUnicorn+Companies/unicorn_companies_clean.csv\u001b[39;49m\u001b[38;5;124;43m\"\u001b[39;49m\u001b[43m,\u001b[49m\u001b[43m \u001b[49m\u001b[43mindex\u001b[49m\u001b[38;5;241;43m=\u001b[39;49m\u001b[38;5;28;43;01mFalse\u001b[39;49;00m\u001b[43m)\u001b[49m\n",
            "File \u001b[0;32m/lib/python3.12/site-packages/pandas/util/_decorators.py:333\u001b[0m, in \u001b[0;36mdeprecate_nonkeyword_arguments.<locals>.decorate.<locals>.wrapper\u001b[0;34m(*args, **kwargs)\u001b[0m\n\u001b[1;32m    327\u001b[0m \u001b[38;5;28;01mif\u001b[39;00m \u001b[38;5;28mlen\u001b[39m(args) \u001b[38;5;241m>\u001b[39m num_allow_args:\n\u001b[1;32m    328\u001b[0m     warnings\u001b[38;5;241m.\u001b[39mwarn(\n\u001b[1;32m    329\u001b[0m         msg\u001b[38;5;241m.\u001b[39mformat(arguments\u001b[38;5;241m=\u001b[39m_format_argument_list(allow_args)),\n\u001b[1;32m    330\u001b[0m         \u001b[38;5;167;01mFutureWarning\u001b[39;00m,\n\u001b[1;32m    331\u001b[0m         stacklevel\u001b[38;5;241m=\u001b[39mfind_stack_level(),\n\u001b[1;32m    332\u001b[0m     )\n\u001b[0;32m--> 333\u001b[0m \u001b[38;5;28;01mreturn\u001b[39;00m \u001b[43mfunc\u001b[49m\u001b[43m(\u001b[49m\u001b[38;5;241;43m*\u001b[39;49m\u001b[43margs\u001b[49m\u001b[43m,\u001b[49m\u001b[43m \u001b[49m\u001b[38;5;241;43m*\u001b[39;49m\u001b[38;5;241;43m*\u001b[39;49m\u001b[43mkwargs\u001b[49m\u001b[43m)\u001b[49m\n",
            "File \u001b[0;32m/lib/python3.12/site-packages/pandas/core/generic.py:3961\u001b[0m, in \u001b[0;36mNDFrame.to_csv\u001b[0;34m(self, path_or_buf, sep, na_rep, float_format, columns, header, index, index_label, mode, encoding, compression, quoting, quotechar, lineterminator, chunksize, date_format, doublequote, escapechar, decimal, errors, storage_options)\u001b[0m\n\u001b[1;32m   3950\u001b[0m df \u001b[38;5;241m=\u001b[39m \u001b[38;5;28mself\u001b[39m \u001b[38;5;28;01mif\u001b[39;00m \u001b[38;5;28misinstance\u001b[39m(\u001b[38;5;28mself\u001b[39m, ABCDataFrame) \u001b[38;5;28;01melse\u001b[39;00m \u001b[38;5;28mself\u001b[39m\u001b[38;5;241m.\u001b[39mto_frame()\n\u001b[1;32m   3952\u001b[0m formatter \u001b[38;5;241m=\u001b[39m DataFrameFormatter(\n\u001b[1;32m   3953\u001b[0m     frame\u001b[38;5;241m=\u001b[39mdf,\n\u001b[1;32m   3954\u001b[0m     header\u001b[38;5;241m=\u001b[39mheader,\n\u001b[0;32m   (...)\u001b[0m\n\u001b[1;32m   3958\u001b[0m     decimal\u001b[38;5;241m=\u001b[39mdecimal,\n\u001b[1;32m   3959\u001b[0m )\n\u001b[0;32m-> 3961\u001b[0m \u001b[38;5;28;01mreturn\u001b[39;00m \u001b[43mDataFrameRenderer\u001b[49m\u001b[43m(\u001b[49m\u001b[43mformatter\u001b[49m\u001b[43m)\u001b[49m\u001b[38;5;241;43m.\u001b[39;49m\u001b[43mto_csv\u001b[49m\u001b[43m(\u001b[49m\n\u001b[1;32m   3962\u001b[0m \u001b[43m    \u001b[49m\u001b[43mpath_or_buf\u001b[49m\u001b[43m,\u001b[49m\n\u001b[1;32m   3963\u001b[0m \u001b[43m    \u001b[49m\u001b[43mlineterminator\u001b[49m\u001b[38;5;241;43m=\u001b[39;49m\u001b[43mlineterminator\u001b[49m\u001b[43m,\u001b[49m\n\u001b[1;32m   3964\u001b[0m \u001b[43m    \u001b[49m\u001b[43msep\u001b[49m\u001b[38;5;241;43m=\u001b[39;49m\u001b[43msep\u001b[49m\u001b[43m,\u001b[49m\n\u001b[1;32m   3965\u001b[0m \u001b[43m    \u001b[49m\u001b[43mencoding\u001b[49m\u001b[38;5;241;43m=\u001b[39;49m\u001b[43mencoding\u001b[49m\u001b[43m,\u001b[49m\n\u001b[1;32m   3966\u001b[0m \u001b[43m    \u001b[49m\u001b[43merrors\u001b[49m\u001b[38;5;241;43m=\u001b[39;49m\u001b[43merrors\u001b[49m\u001b[43m,\u001b[49m\n\u001b[1;32m   3967\u001b[0m \u001b[43m    \u001b[49m\u001b[43mcompression\u001b[49m\u001b[38;5;241;43m=\u001b[39;49m\u001b[43mcompression\u001b[49m\u001b[43m,\u001b[49m\n\u001b[1;32m   3968\u001b[0m \u001b[43m    \u001b[49m\u001b[43mquoting\u001b[49m\u001b[38;5;241;43m=\u001b[39;49m\u001b[43mquoting\u001b[49m\u001b[43m,\u001b[49m\n\u001b[1;32m   3969\u001b[0m \u001b[43m    \u001b[49m\u001b[43mcolumns\u001b[49m\u001b[38;5;241;43m=\u001b[39;49m\u001b[43mcolumns\u001b[49m\u001b[43m,\u001b[49m\n\u001b[1;32m   3970\u001b[0m \u001b[43m    \u001b[49m\u001b[43mindex_label\u001b[49m\u001b[38;5;241;43m=\u001b[39;49m\u001b[43mindex_label\u001b[49m\u001b[43m,\u001b[49m\n\u001b[1;32m   3971\u001b[0m \u001b[43m    \u001b[49m\u001b[43mmode\u001b[49m\u001b[38;5;241;43m=\u001b[39;49m\u001b[43mmode\u001b[49m\u001b[43m,\u001b[49m\n\u001b[1;32m   3972\u001b[0m \u001b[43m    \u001b[49m\u001b[43mchunksize\u001b[49m\u001b[38;5;241;43m=\u001b[39;49m\u001b[43mchunksize\u001b[49m\u001b[43m,\u001b[49m\n\u001b[1;32m   3973\u001b[0m \u001b[43m    \u001b[49m\u001b[43mquotechar\u001b[49m\u001b[38;5;241;43m=\u001b[39;49m\u001b[43mquotechar\u001b[49m\u001b[43m,\u001b[49m\n\u001b[1;32m   3974\u001b[0m \u001b[43m    \u001b[49m\u001b[43mdate_format\u001b[49m\u001b[38;5;241;43m=\u001b[39;49m\u001b[43mdate_format\u001b[49m\u001b[43m,\u001b[49m\n\u001b[1;32m   3975\u001b[0m \u001b[43m    \u001b[49m\u001b[43mdoublequote\u001b[49m\u001b[38;5;241;43m=\u001b[39;49m\u001b[43mdoublequote\u001b[49m\u001b[43m,\u001b[49m\n\u001b[1;32m   3976\u001b[0m \u001b[43m    \u001b[49m\u001b[43mescapechar\u001b[49m\u001b[38;5;241;43m=\u001b[39;49m\u001b[43mescapechar\u001b[49m\u001b[43m,\u001b[49m\n\u001b[1;32m   3977\u001b[0m \u001b[43m    \u001b[49m\u001b[43mstorage_options\u001b[49m\u001b[38;5;241;43m=\u001b[39;49m\u001b[43mstorage_options\u001b[49m\u001b[43m,\u001b[49m\n\u001b[1;32m   3978\u001b[0m \u001b[43m\u001b[49m\u001b[43m)\u001b[49m\n",
            "File \u001b[0;32m/lib/python3.12/site-packages/pandas/io/formats/format.py:1014\u001b[0m, in \u001b[0;36mDataFrameRenderer.to_csv\u001b[0;34m(self, path_or_buf, encoding, sep, columns, index_label, mode, compression, quoting, quotechar, lineterminator, chunksize, date_format, doublequote, escapechar, errors, storage_options)\u001b[0m\n\u001b[1;32m    993\u001b[0m     created_buffer \u001b[38;5;241m=\u001b[39m \u001b[38;5;28;01mFalse\u001b[39;00m\n\u001b[1;32m    995\u001b[0m csv_formatter \u001b[38;5;241m=\u001b[39m CSVFormatter(\n\u001b[1;32m    996\u001b[0m     path_or_buf\u001b[38;5;241m=\u001b[39mpath_or_buf,\n\u001b[1;32m    997\u001b[0m     lineterminator\u001b[38;5;241m=\u001b[39mlineterminator,\n\u001b[0;32m   (...)\u001b[0m\n\u001b[1;32m   1012\u001b[0m     formatter\u001b[38;5;241m=\u001b[39m\u001b[38;5;28mself\u001b[39m\u001b[38;5;241m.\u001b[39mfmt,\n\u001b[1;32m   1013\u001b[0m )\n\u001b[0;32m-> 1014\u001b[0m \u001b[43mcsv_formatter\u001b[49m\u001b[38;5;241;43m.\u001b[39;49m\u001b[43msave\u001b[49m\u001b[43m(\u001b[49m\u001b[43m)\u001b[49m\n\u001b[1;32m   1016\u001b[0m \u001b[38;5;28;01mif\u001b[39;00m created_buffer:\n\u001b[1;32m   1017\u001b[0m     \u001b[38;5;28;01massert\u001b[39;00m \u001b[38;5;28misinstance\u001b[39m(path_or_buf, StringIO)\n",
            "File \u001b[0;32m/lib/python3.12/site-packages/pandas/io/formats/csvs.py:251\u001b[0m, in \u001b[0;36mCSVFormatter.save\u001b[0;34m(self)\u001b[0m\n\u001b[1;32m    247\u001b[0m \u001b[38;5;250m\u001b[39m\u001b[38;5;124;03m\"\"\"\u001b[39;00m\n\u001b[1;32m    248\u001b[0m \u001b[38;5;124;03mCreate the writer & save.\u001b[39;00m\n\u001b[1;32m    249\u001b[0m \u001b[38;5;124;03m\"\"\"\u001b[39;00m\n\u001b[1;32m    250\u001b[0m \u001b[38;5;66;03m# apply compression and byte/text conversion\u001b[39;00m\n\u001b[0;32m--> 251\u001b[0m \u001b[38;5;28;01mwith\u001b[39;00m \u001b[43mget_handle\u001b[49m\u001b[43m(\u001b[49m\n\u001b[1;32m    252\u001b[0m \u001b[43m    \u001b[49m\u001b[38;5;28;43mself\u001b[39;49m\u001b[38;5;241;43m.\u001b[39;49m\u001b[43mfilepath_or_buffer\u001b[49m\u001b[43m,\u001b[49m\n\u001b[1;32m    253\u001b[0m \u001b[43m    \u001b[49m\u001b[38;5;28;43mself\u001b[39;49m\u001b[38;5;241;43m.\u001b[39;49m\u001b[43mmode\u001b[49m\u001b[43m,\u001b[49m\n\u001b[1;32m    254\u001b[0m \u001b[43m    \u001b[49m\u001b[43mencoding\u001b[49m\u001b[38;5;241;43m=\u001b[39;49m\u001b[38;5;28;43mself\u001b[39;49m\u001b[38;5;241;43m.\u001b[39;49m\u001b[43mencoding\u001b[49m\u001b[43m,\u001b[49m\n\u001b[1;32m    255\u001b[0m \u001b[43m    \u001b[49m\u001b[43merrors\u001b[49m\u001b[38;5;241;43m=\u001b[39;49m\u001b[38;5;28;43mself\u001b[39;49m\u001b[38;5;241;43m.\u001b[39;49m\u001b[43merrors\u001b[49m\u001b[43m,\u001b[49m\n\u001b[1;32m    256\u001b[0m \u001b[43m    \u001b[49m\u001b[43mcompression\u001b[49m\u001b[38;5;241;43m=\u001b[39;49m\u001b[38;5;28;43mself\u001b[39;49m\u001b[38;5;241;43m.\u001b[39;49m\u001b[43mcompression\u001b[49m\u001b[43m,\u001b[49m\n\u001b[1;32m    257\u001b[0m \u001b[43m    \u001b[49m\u001b[43mstorage_options\u001b[49m\u001b[38;5;241;43m=\u001b[39;49m\u001b[38;5;28;43mself\u001b[39;49m\u001b[38;5;241;43m.\u001b[39;49m\u001b[43mstorage_options\u001b[49m\u001b[43m,\u001b[49m\n\u001b[1;32m    258\u001b[0m \u001b[43m\u001b[49m\u001b[43m)\u001b[49m \u001b[38;5;28;01mas\u001b[39;00m handles:\n\u001b[1;32m    259\u001b[0m     \u001b[38;5;66;03m# Note: self.encoding is irrelevant here\u001b[39;00m\n\u001b[1;32m    260\u001b[0m     \u001b[38;5;28mself\u001b[39m\u001b[38;5;241m.\u001b[39mwriter \u001b[38;5;241m=\u001b[39m csvlib\u001b[38;5;241m.\u001b[39mwriter(\n\u001b[1;32m    261\u001b[0m         handles\u001b[38;5;241m.\u001b[39mhandle,\n\u001b[1;32m    262\u001b[0m         lineterminator\u001b[38;5;241m=\u001b[39m\u001b[38;5;28mself\u001b[39m\u001b[38;5;241m.\u001b[39mlineterminator,\n\u001b[0;32m   (...)\u001b[0m\n\u001b[1;32m    267\u001b[0m         quotechar\u001b[38;5;241m=\u001b[39m\u001b[38;5;28mself\u001b[39m\u001b[38;5;241m.\u001b[39mquotechar,\n\u001b[1;32m    268\u001b[0m     )\n\u001b[1;32m    270\u001b[0m     \u001b[38;5;28mself\u001b[39m\u001b[38;5;241m.\u001b[39m_save()\n",
            "File \u001b[0;32m/lib/python3.12/site-packages/pandas/io/common.py:749\u001b[0m, in \u001b[0;36mget_handle\u001b[0;34m(path_or_buf, mode, encoding, compression, memory_map, is_text, errors, storage_options)\u001b[0m\n\u001b[1;32m    747\u001b[0m \u001b[38;5;66;03m# Only for write methods\u001b[39;00m\n\u001b[1;32m    748\u001b[0m \u001b[38;5;28;01mif\u001b[39;00m \u001b[38;5;124m\"\u001b[39m\u001b[38;5;124mr\u001b[39m\u001b[38;5;124m\"\u001b[39m \u001b[38;5;129;01mnot\u001b[39;00m \u001b[38;5;129;01min\u001b[39;00m mode \u001b[38;5;129;01mand\u001b[39;00m is_path:\n\u001b[0;32m--> 749\u001b[0m     \u001b[43mcheck_parent_directory\u001b[49m\u001b[43m(\u001b[49m\u001b[38;5;28;43mstr\u001b[39;49m\u001b[43m(\u001b[49m\u001b[43mhandle\u001b[49m\u001b[43m)\u001b[49m\u001b[43m)\u001b[49m\n\u001b[1;32m    751\u001b[0m \u001b[38;5;28;01mif\u001b[39;00m compression:\n\u001b[1;32m    752\u001b[0m     \u001b[38;5;28;01mif\u001b[39;00m compression \u001b[38;5;241m!=\u001b[39m \u001b[38;5;124m\"\u001b[39m\u001b[38;5;124mzstd\u001b[39m\u001b[38;5;124m\"\u001b[39m:\n\u001b[1;32m    753\u001b[0m         \u001b[38;5;66;03m# compression libraries do not like an explicit text-mode\u001b[39;00m\n",
            "File \u001b[0;32m/lib/python3.12/site-packages/pandas/io/common.py:616\u001b[0m, in \u001b[0;36mcheck_parent_directory\u001b[0;34m(path)\u001b[0m\n\u001b[1;32m    614\u001b[0m parent \u001b[38;5;241m=\u001b[39m Path(path)\u001b[38;5;241m.\u001b[39mparent\n\u001b[1;32m    615\u001b[0m \u001b[38;5;28;01mif\u001b[39;00m \u001b[38;5;129;01mnot\u001b[39;00m parent\u001b[38;5;241m.\u001b[39mis_dir():\n\u001b[0;32m--> 616\u001b[0m     \u001b[38;5;28;01mraise\u001b[39;00m \u001b[38;5;167;01mOSError\u001b[39;00m(\u001b[38;5;124mrf\u001b[39m\u001b[38;5;124m\"\u001b[39m\u001b[38;5;124mCannot save file into a non-existent directory: \u001b[39m\u001b[38;5;124m'\u001b[39m\u001b[38;5;132;01m{\u001b[39;00mparent\u001b[38;5;132;01m}\u001b[39;00m\u001b[38;5;124m'\u001b[39m\u001b[38;5;124m\"\u001b[39m)\n",
            "\u001b[0;31mOSError\u001b[0m: Cannot save file into a non-existent directory: 'Unicorn+Companies'"
          ],
          "output_type": "error"
        }
      ],
      "execution_count": 23
    },
    {
      "id": "2bddc60e-18ac-49aa-b23b-e0201fc9046d",
      "cell_type": "code",
      "source": "",
      "metadata": {
        "trusted": true
      },
      "outputs": [],
      "execution_count": null
    }
  ]
}